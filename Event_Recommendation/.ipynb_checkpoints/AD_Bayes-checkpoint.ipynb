{
 "cells": [
  {
   "cell_type": "markdown",
   "metadata": {},
   "source": [
    "该实验是使用朴素贝叶斯从个人广告中获取区域倾向"
   ]
  },
  {
   "cell_type": "code",
   "execution_count": 1,
   "metadata": {
    "collapsed": true
   },
   "outputs": [],
   "source": [
    "import feedparser\n",
    "\n",
    "# 获取Cargslist网站数据\n",
    "ny = feedparser.parse('http://newyork.craiglist.org/search/stp?format=rss')\n",
    "sf = feedparser.parse('http://sfbay.craiglist.org/search/stp?format=rss')\n"
   ]
  },
  {
   "cell_type": "code",
   "execution_count": 2,
   "metadata": {
    "collapsed": false
   },
   "outputs": [
    {
     "data": {
      "text/plain": [
       "25"
      ]
     },
     "execution_count": 2,
     "metadata": {},
     "output_type": "execute_result"
    }
   ],
   "source": [
    "len(ny['entries'])"
   ]
  },
  {
   "cell_type": "code",
   "execution_count": 4,
   "metadata": {
    "collapsed": false
   },
   "outputs": [
    {
     "data": {
      "text/plain": [
       "25"
      ]
     },
     "execution_count": 4,
     "metadata": {},
     "output_type": "execute_result"
    }
   ],
   "source": [
    "len(sf['entries'])"
   ]
  },
  {
   "cell_type": "code",
   "execution_count": 7,
   "metadata": {
    "collapsed": false
   },
   "outputs": [
    {
     "data": {
      "text/plain": [
       "u\"Hello Craigslist world, \\nThanks for looking at my post. Why would anybody click on a headline like that is beyond me... Let's face it, we all have issues one way or another. It's not a question wether we are crazy or not, but how crazy are we. \\nAnywa [...]\""
      ]
     },
     "execution_count": 7,
     "metadata": {},
     "output_type": "execute_result"
    }
   ],
   "source": [
    "sf['entries'][0]['summary']"
   ]
  },
  {
   "cell_type": "markdown",
   "metadata": {},
   "source": [
    "获取完数据之后，开始处理数据。我们需要的是广告内容的摘要，需要将这些文本处理成词条向量。"
   ]
  },
  {
   "cell_type": "code",
   "execution_count": 8,
   "metadata": {
    "collapsed": true
   },
   "outputs": [],
   "source": [
    "import re\n",
    "\n",
    "# 读取RSS数据\n",
    "def loadFromRSS(feed):\n",
    "    data = feed['summary']\n",
    "    \n",
    "    # 使用正则表达式进行分词\n",
    "    regEx = re.compile('\\\\W*')\n",
    "    wordList = regEx.split(data)\n",
    "    return [tok.lower() for tok in wordList if len(tok) > 2]"
   ]
  },
  {
   "cell_type": "code",
   "execution_count": 9,
   "metadata": {
    "collapsed": false
   },
   "outputs": [
    {
     "data": {
      "text/plain": [
       "[u'hello',\n",
       " u'craigslist',\n",
       " u'world',\n",
       " u'thanks',\n",
       " u'for',\n",
       " u'looking',\n",
       " u'post',\n",
       " u'why',\n",
       " u'would',\n",
       " u'anybody',\n",
       " u'click',\n",
       " u'headline',\n",
       " u'like',\n",
       " u'that',\n",
       " u'beyond',\n",
       " u'let',\n",
       " u'face',\n",
       " u'all',\n",
       " u'have',\n",
       " u'issues',\n",
       " u'one',\n",
       " u'way',\n",
       " u'another',\n",
       " u'not',\n",
       " u'question',\n",
       " u'wether',\n",
       " u'are',\n",
       " u'crazy',\n",
       " u'not',\n",
       " u'but',\n",
       " u'how',\n",
       " u'crazy',\n",
       " u'are',\n",
       " u'anywa']"
      ]
     },
     "execution_count": 9,
     "metadata": {},
     "output_type": "execute_result"
    }
   ],
   "source": [
    "# 可以变为词条向量了\n",
    "loadFromRSS(sf['entries'][0])"
   ]
  },
  {
   "cell_type": "code",
   "execution_count": 10,
   "metadata": {
    "collapsed": true
   },
   "outputs": [],
   "source": [
    "# 创建词汇表\n",
    "def createVocabList(docList):\n",
    "    # 初始化集合\n",
    "    vocabSet = set([])\n",
    "    \n",
    "    # 遍历docList,提取所有出现过的单词\n",
    "    for document in docList:\n",
    "        # 集合操作\n",
    "        vocabSet = vocabSet | set(document)\n",
    "    return list(vocabSet)"
   ]
  },
  {
   "cell_type": "code",
   "execution_count": 12,
   "metadata": {
    "collapsed": false
   },
   "outputs": [],
   "source": [
    "from numpy import *\n",
    "\n",
    "# 创建朴素贝叶斯词袋模型\n",
    "def bagOfWords2VecMN(vocabList,inputSet):\n",
    "    # 初始化词向量，每个元素对应词汇表中的一个单词\n",
    "    returnVec = [0]*len(vocabList)\n",
    "    \n",
    "    # 遍历输入的广告，每遇到一个词，词向量中对应的值加1\n",
    "    for word in inputSet:\n",
    "        if word in vocabList:\n",
    "            returnVec[vocabList.index(word)] += 1\n",
    "    return returnVec"
   ]
  },
  {
   "cell_type": "markdown",
   "metadata": {},
   "source": [
    "训练算法"
   ]
  },
  {
   "cell_type": "code",
   "execution_count": 14,
   "metadata": {
    "collapsed": true
   },
   "outputs": [],
   "source": [
    "# 朴素贝叶斯算法训练函数\n",
    "def trainNB0(trainMatrix,trainCategory):\n",
    "    # 文档数量\n",
    "    numTrainDocs = len(trainMatrix)\n",
    "    \n",
    "    # 数据集中的词汇量\n",
    "    numWords = len(trainMatrix[0])\n",
    "    \n",
    "    # 初始化\n",
    "    # 计算类别1在文档总数中出现的概率,因为二分类，只有类别1是1，类别0是0\n",
    "    pAbusive = sum(trainCategory)/float(numTrainDocs)\n",
    "    p0Num = ones(numWords);p1Num = ones(numWords) # 用了拉普拉斯平滑\n",
    "    p0Denom = 2.0;p1Denom = 2.0\n",
    "    \n",
    "    # 遍历每篇文档\n",
    "    for i in range(numTrainDocs):\n",
    "        # 判断是否是类别1\n",
    "        if trainCategory[i] == 1:\n",
    "            p1Num += trainMatrix[i]\n",
    "            # 增加类别1所有词条的总计数\n",
    "            p1Denom += sum(trainMatrix[i])\n",
    "        else:\n",
    "            p0Num += trainMatrix[i]\n",
    "            p0Denom += sum(trainMatrix[i])\n",
    "    \n",
    "    # 返回每个词条在类别1中出现的概率向量（取log）\n",
    "    p1Vec = log(p1Num/p1Denom)\n",
    "    \n",
    "    # 返回类别0中出现的概率向量\n",
    "    p0Vec = log(p0Num/p0Denom)\n",
    "    \n",
    "    return p0Vec,p1Vec,pAbusive"
   ]
  },
  {
   "cell_type": "code",
   "execution_count": 15,
   "metadata": {
    "collapsed": true
   },
   "outputs": [],
   "source": [
    "# 分类器\n",
    "def classifyNB(vec2Classify,p0Vec,p1Vec,pClass1):\n",
    "    # 朴素贝叶斯公式,pClass1是类别1在文档总数的概率，也就是先验概率\n",
    "    \n",
    "    p1 = sum(vec2Classify*p1Vec) + log(pClass1)\n",
    "    p0 = sum(vec2Classify*p0Vec) + log(1.0-pClass1)\n",
    "    if p1>p0:\n",
    "        return 1\n",
    "    else:\n",
    "        return 0"
   ]
  },
  {
   "cell_type": "markdown",
   "metadata": {},
   "source": [
    "测试算法\n",
    "\n",
    "\n",
    "测试的步骤：\n",
    "\n",
    "1. 读取两个城市的RSS广告信息\n",
    "2. 去掉出现频次最高的30个词汇\n",
    "3. 从中随机提取10则广告作为测试集，其他的为训练集\n",
    "4. 构造训练算法的输入矩阵和类型向量\n",
    "5. 执行训练算法得到概率向量\n",
    "6. 循环读取测试集中的广告，对广告执行分类操作并判断是否正确\n",
    "7. 打印错误率"
   ]
  },
  {
   "cell_type": "code",
   "execution_count": 18,
   "metadata": {
    "collapsed": true
   },
   "outputs": [],
   "source": [
    "# 计算出现频次最高的30个词\n",
    "def calcMostFreq(vocabList,fullText):\n",
    "    import operator\n",
    "    \n",
    "    # 存储词频的字典\n",
    "    freqDict = {}\n",
    "    \n",
    "    # 遍历词汇表中的每一个单词\n",
    "    for token in vocabList:\n",
    "        # 在全文列表中查找词出现的频次\n",
    "        freqDict[token] = fullText.count(token)\n",
    "    \n",
    "    # 对词频字典进行倒序排列\n",
    "    sortedFreq = sorted(freqDict.iteritems(),key=operator.itemgetter(1),reverse=True)\n",
    "    \n",
    "    # 返回\n",
    "    return sortedFreq[:30]"
   ]
  },
  {
   "cell_type": "code",
   "execution_count": 19,
   "metadata": {
    "collapsed": true
   },
   "outputs": [],
   "source": [
    "# 广告信息朴素贝叶斯分类器测试\n",
    "def localWords(feed1,feed0):\n",
    "    import feedparser\n",
    "    \n",
    "    #初始化词汇列表，分类向量，全文列表\n",
    "    docList=[];classList=[];fullText=[]\n",
    "    \n",
    "    # 获取广告数量\n",
    "    minLen = min(len(feed1['entries']),len(feed0['entries']))\n",
    "    \n",
    "    # 循环读取两个城市的广告数据\n",
    "    for i in range(minLen):\n",
    "        # 读取城市1的所有广告\n",
    "        wordList = loadFromRSS(feed1['entries'][i])\n",
    "        docList.append(wordList)\n",
    "        fullText.extend(wordList)\n",
    "        # 城市1的标签\n",
    "        classList.append(1)\n",
    "        \n",
    "        # 读取城市0的所有广告\n",
    "        wordList = loadFromRSS(feed0['entries'][i])\n",
    "        docList.append(wordList)\n",
    "        fullText.extend(wordList)\n",
    "        classList.append(0)\n",
    "        \n",
    "    # 获取单词表\n",
    "    vocabList = createVocabList(docList)\n",
    "    \n",
    "    # 去除高频词汇\n",
    "    top30Words = calcMostFreq(vocabList,fullText)\n",
    "    for pairW in top30Words:\n",
    "        if pairW[0] in vocabList:\n",
    "            vocabList.remove(pairW[0])\n",
    "    \n",
    "    # 初始化训练数据集合测试数据集\n",
    "    trainingSet = range(2*minLen);testSet=[]\n",
    "    for i in range(10):\n",
    "        # 从中随机提取10个作为测试集\n",
    "        randIndex = int(random.uniform(0,len(trainingSet)))\n",
    "        testSet.append(trainingSet[randIndex])\n",
    "        del(trainingSet[randIndex])\n",
    "    \n",
    "    # 构建训练算法所需要的输入参数\n",
    "    trainMat = [];trainClasses = []\n",
    "    for docIndex in trainingSet:\n",
    "        trainMat.append(bagOfWords2VecMN(vocabList,docList[docIndex]))\n",
    "        trainClasses.append(classList[docIndex])\n",
    "    \n",
    "    # 执行训练算法，获得概率向量\n",
    "    p0V,p1V,pSpam = trainNB0(array(trainMat),array(trainClasses))\n",
    "    \n",
    "    # 进行分类测试\n",
    "    errorCount = 0\n",
    "    \n",
    "    for docIndex in testSet:\n",
    "        # 获得词袋\n",
    "        wordVec = bagOfWords2VecMN(vocabList,docList[docIndex])\n",
    "        # 分类后\n",
    "        if classifyNB(array(wordVec),p0V,p1V,pSpam) != classList[docIndex]:\n",
    "            errorCount += 1\n",
    "    \n",
    "    print \"the error rate is: \",float(errorCount)/len(testSet)"
   ]
  },
  {
   "cell_type": "code",
   "execution_count": 20,
   "metadata": {
    "collapsed": false
   },
   "outputs": [
    {
     "ename": "TypeError",
     "evalue": "len() takes exactly one argument (2 given)",
     "output_type": "error",
     "traceback": [
      "\u001b[0;31m---------------------------------------------------------------------------\u001b[0m",
      "\u001b[0;31mTypeError\u001b[0m                                 Traceback (most recent call last)",
      "\u001b[0;32m<ipython-input-20-2b88f9bdbcf9>\u001b[0m in \u001b[0;36m<module>\u001b[0;34m()\u001b[0m\n\u001b[0;32m----> 1\u001b[0;31m \u001b[0mlocalWords\u001b[0m\u001b[0;34m(\u001b[0m\u001b[0mny\u001b[0m\u001b[0;34m,\u001b[0m\u001b[0msf\u001b[0m\u001b[0;34m)\u001b[0m\u001b[0;34m\u001b[0m\u001b[0m\n\u001b[0m",
      "\u001b[0;32m<ipython-input-19-7721d0ac09f2>\u001b[0m in \u001b[0;36mlocalWords\u001b[0;34m(feed1, feed0)\u001b[0m\n\u001b[1;32m      7\u001b[0m \u001b[0;34m\u001b[0m\u001b[0m\n\u001b[1;32m      8\u001b[0m     \u001b[0;31m# 获取广告数量\u001b[0m\u001b[0;34m\u001b[0m\u001b[0;34m\u001b[0m\u001b[0m\n\u001b[0;32m----> 9\u001b[0;31m     \u001b[0mminLen\u001b[0m \u001b[0;34m=\u001b[0m \u001b[0mmin\u001b[0m\u001b[0;34m(\u001b[0m\u001b[0mlen\u001b[0m\u001b[0;34m(\u001b[0m\u001b[0mfeed1\u001b[0m\u001b[0;34m[\u001b[0m\u001b[0;34m'entries'\u001b[0m\u001b[0;34m]\u001b[0m\u001b[0;34m,\u001b[0m\u001b[0mlen\u001b[0m\u001b[0;34m(\u001b[0m\u001b[0mfeed0\u001b[0m\u001b[0;34m[\u001b[0m\u001b[0;34m'entries'\u001b[0m\u001b[0;34m]\u001b[0m\u001b[0;34m)\u001b[0m\u001b[0;34m)\u001b[0m\u001b[0;34m)\u001b[0m\u001b[0;34m\u001b[0m\u001b[0m\n\u001b[0m\u001b[1;32m     10\u001b[0m \u001b[0;34m\u001b[0m\u001b[0m\n\u001b[1;32m     11\u001b[0m     \u001b[0;31m# 循环读取两个城市的广告数据\u001b[0m\u001b[0;34m\u001b[0m\u001b[0;34m\u001b[0m\u001b[0m\n",
      "\u001b[0;31mTypeError\u001b[0m: len() takes exactly one argument (2 given)"
     ]
    }
   ],
   "source": [
    "localWords(ny,sf)"
   ]
  },
  {
   "cell_type": "code",
   "execution_count": null,
   "metadata": {
    "collapsed": true
   },
   "outputs": [],
   "source": []
  }
 ],
 "metadata": {
  "kernelspec": {
   "display_name": "Python 2",
   "language": "python",
   "name": "python2"
  },
  "language_info": {
   "codemirror_mode": {
    "name": "ipython",
    "version": 2
   },
   "file_extension": ".py",
   "mimetype": "text/x-python",
   "name": "python",
   "nbconvert_exporter": "python",
   "pygments_lexer": "ipython2",
   "version": "2.7.11"
  }
 },
 "nbformat": 4,
 "nbformat_minor": 0
}
