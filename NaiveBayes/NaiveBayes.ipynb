{
 "cells": [
  {
   "cell_type": "markdown",
   "metadata": {},
   "source": [
    "本文是《机器学习实战》朴素贝叶斯过滤垃圾邮件练习。\n",
    "\n",
    "使用的数据集包含50封邮件，其中25封为垃圾邮件。训练集40封，测试集10封。"
   ]
  },
  {
   "cell_type": "code",
   "execution_count": 3,
   "metadata": {
    "collapsed": true
   },
   "outputs": [],
   "source": [
    "import re\n",
    "\n",
    "# 读取邮件数据\n",
    "def loadEmailFile(filename):\n",
    "    fr = open(filename)\n",
    "    \n",
    "    # 使用正则表达式进行分词\n",
    "    regEx = re.compile('\\\\W*')\n",
    "    wordList = regEx.split(fr.read())\n",
    "    return [tok.lower() for tok in wordList if len(tok) > 2]"
   ]
  },
  {
   "cell_type": "markdown",
   "metadata": {},
   "source": [
    "打印出来看看效果："
   ]
  },
  {
   "cell_type": "code",
   "execution_count": 5,
   "metadata": {
    "collapsed": false
   },
   "outputs": [
    {
     "data": {
      "text/plain": [
       "['you',\n",
       " 'have',\n",
       " 'everything',\n",
       " 'gain',\n",
       " 'incredib1e',\n",
       " 'gains',\n",
       " 'length',\n",
       " 'inches',\n",
       " 'yourpenis',\n",
       " 'permanantly',\n",
       " 'amazing',\n",
       " 'increase',\n",
       " 'thickness',\n",
       " 'yourpenis',\n",
       " 'betterejacu1ation',\n",
       " 'control',\n",
       " 'experience',\n",
       " 'rock',\n",
       " 'harderecetions',\n",
       " 'explosive',\n",
       " 'intenseorgasns',\n",
       " 'increase',\n",
       " 'volume',\n",
       " 'ofejacu1ate',\n",
       " 'doctor',\n",
       " 'designed',\n",
       " 'and',\n",
       " 'endorsed',\n",
       " '100',\n",
       " 'herbal',\n",
       " '100',\n",
       " 'natural',\n",
       " '100',\n",
       " 'safe']"
      ]
     },
     "execution_count": 5,
     "metadata": {},
     "output_type": "execute_result"
    }
   ],
   "source": [
    "wordList = loadEmailFile('email/spam/8.txt')\n",
    "wordList"
   ]
  },
  {
   "cell_type": "markdown",
   "metadata": {},
   "source": [
    "在算法训练和测试过程中，每个文件都需要使用该函数读取并返回词条向量"
   ]
  },
  {
   "cell_type": "code",
   "execution_count": 6,
   "metadata": {
    "collapsed": true
   },
   "outputs": [],
   "source": [
    "# 创建词汇表\n",
    "def createVocabList(docList):\n",
    "    # 初始化集合\n",
    "    vocabSet = set([])\n",
    "    \n",
    "    # 遍历docList，提取所有出现过的单词\n",
    "    for document in docList:\n",
    "        vocabSet = vocabSet | set(document)\n",
    "    return list(vocabSet)"
   ]
  },
  {
   "cell_type": "code",
   "execution_count": 7,
   "metadata": {
    "collapsed": true
   },
   "outputs": [],
   "source": [
    "from numpy import *\n",
    "\n",
    "# 创建朴素贝叶斯词袋模型\n",
    "def bagOfWords2VecMN(vocabList,inputSet):\n",
    "    # 初始化词向量，每个元素对应词汇表中的一个单词，初始化为0\n",
    "    returnVec = [0]*len(vocabList)\n",
    "    \n",
    "    # 遍历输入的邮件数据，每遇到一个词，词向量中对应的值加1\n",
    "    for word in inputSet:\n",
    "        if word in vocabList:\n",
    "            returnVec[vocabList.index(word)] += 1\n",
    "    return returnVec"
   ]
  },
  {
   "cell_type": "markdown",
   "metadata": {},
   "source": [
    "朴素贝叶斯算法是一个比较简单的，基于概率论的分类算法"
   ]
  },
  {
   "cell_type": "code",
   "execution_count": 8,
   "metadata": {
    "collapsed": true
   },
   "outputs": [],
   "source": [
    "# 朴素贝叶斯算法训练函数\n",
    "def trainNB0(trainMatrix,trainCategory):\n",
    "    # 文档数量\n",
    "    numTrainDocs = len(trainMatrix)\n",
    "    # 数据集中的词汇量\n",
    "    numWords = len(trainMatrix[0])\n",
    "    \n",
    "    # 初始化\n",
    "    # 计算垃圾邮件在邮件总数中出现的概率\n",
    "    pAbusive = sum(trainCategory)/float(numTrainDocs)\n",
    "    p0Num = ones(numWords);p1Num = ones(numWords)  # 应该是用平滑\n",
    "    p0Denom = 2.0;p1Denom = 2.0\n",
    "    \n",
    "    # 遍历每篇文档\n",
    "    for i in range(numTrainDocs):\n",
    "        # 判断是否是垃圾邮件\n",
    "        if trainCategory[i] == 1:\n",
    "            # 如果是垃圾邮件\n",
    "            # 向量加法增加每个单词在p1Num向量中出现的频次,每个词都加\n",
    "            # 的1，应该是用了平滑\n",
    "            p1Num += trainMatrix[i]\n",
    "            # 增加垃圾邮件所有词条的总计数\n",
    "            p1Denom += sum(trainMatrix[i])\n",
    "        else:\n",
    "            # 如果是正常邮件\n",
    "            p0Num += trainMatrix[i]\n",
    "            p0Denom += sum(trainMatrix[i])\n",
    "    \n",
    "    # 返回每个词条在垃圾邮件中出现的概率向量\n",
    "    p1Vec = log(p1Num/p1Denom)\n",
    "    \n",
    "    # 返回每个词条在正常邮件中出现的概率向量\n",
    "    p0Vec = log(p0Num/p0Denom)\n",
    "    \n",
    "    return p0Vec,p1Vec,pAbusive"
   ]
  },
  {
   "cell_type": "markdown",
   "metadata": {},
   "source": [
    "算法返回值可以应用在对新输入的邮件进行分类，分类器的实现如下，\n",
    "输入为要分类的邮件的词袋，以及训练算法返回的三个数值："
   ]
  },
  {
   "cell_type": "code",
   "execution_count": 9,
   "metadata": {
    "collapsed": true
   },
   "outputs": [],
   "source": [
    "# 分类器\n",
    "def classifyNB(vec2Classify,p0Vec,p1Vec,pClass1):\n",
    "    # 按照朴素贝叶斯算法公式计算概率\n",
    "    p1 = sum(vec2Classify*p1Vec)+log(pClass1)\n",
    "    p0 = sum(vec2Classify*p0Vec)+log(pClass1)\n",
    "    if p1 > p0:\n",
    "        return 1\n",
    "    else:\n",
    "        return 0"
   ]
  },
  {
   "cell_type": "markdown",
   "metadata": {},
   "source": [
    "测试"
   ]
  },
  {
   "cell_type": "code",
   "execution_count": 32,
   "metadata": {
    "collapsed": true
   },
   "outputs": [],
   "source": [
    "# 垃圾邮件朴素贝叶斯分类器测试\n",
    "def spamTest():\n",
    "    # 初始化邮件词汇列表，分类向量，全文列表等\n",
    "    docList=[];classList=[];fullText=[]\n",
    "    \n",
    "    # 遍历读取所有的邮件文件\n",
    "    for i in range(1,26):\n",
    "        # 读取所有的垃圾文件\n",
    "        wordList = loadEmailFile('email/spam/%d.txt' % i)\n",
    "        # 注意python列表中append和extend区别\n",
    "        docList.append(wordList)\n",
    "        fullText.extend(wordList)\n",
    "        classList.append(1)\n",
    "        # 读取所有正常文件\n",
    "        wordList = loadEmailFile('email/ham/%d.txt' % i)\n",
    "        docList.append(wordList)\n",
    "        fullText.extend(wordList)\n",
    "        classList.append(0)\n",
    "        \n",
    "    # 获取单词表\n",
    "    vocabList = createVocabList(docList)\n",
    "    \n",
    "    # 初始化训练数据集和测试数据集\n",
    "    trainingSet = range(50);testSet = []\n",
    "    for i in range(10):\n",
    "        # 从中随机提取10封作为测试集\n",
    "        randIndex = int(random.uniform(0,len(trainingSet)))\n",
    "        testSet.append(trainingSet[randIndex])\n",
    "        del(trainingSet[randIndex])\n",
    "    \n",
    "    # 构建训练算法所需要的输入参数\n",
    "    trainMat=[];trainClasses=[]\n",
    "    for docIndex in trainingSet:\n",
    "        trainMat.append(bagOfWords2VecMN(vocabList,docList[docIndex]))\n",
    "        trainClasses.append(classList[docIndex])\n",
    "    \n",
    "    # 执行训练算法，获得概率向量\n",
    "    p0V,p1V,pSpam = trainNB0(array(trainMat),array(trainClasses))\n",
    "    \n",
    "    # 进行分类器测试\n",
    "    errorCount = 0\n",
    "    \n",
    "    # 循环读取测试邮件\n",
    "    predicted = []\n",
    "    for docIndex in testSet:\n",
    "        # 获得词袋\n",
    "        wordVector = bagOfWords2VecMN(vocabList,docList[docIndex])\n",
    "        predict = classifyNB(array(wordVector),p0V,p1V,pSpam)\n",
    "        # 分类后与实际类别进行对比\n",
    "        if predict != classList[docIndex]:\n",
    "            errorCount += 1\n",
    "            print \"classification error\",docList[docIndex]\n",
    "        predicted.append(predict)\n",
    "    \n",
    "    # 打印错误率\n",
    "    print \"the error rate is: \",float(errorCount)/len(testSet)\n",
    "    print predicted"
   ]
  },
  {
   "cell_type": "code",
   "execution_count": 58,
   "metadata": {
    "collapsed": true
   },
   "outputs": [],
   "source": [
    "from sklearn.naive_bayes import GaussianNB\n",
    "\n",
    "# 用sklearn里的贝叶斯\n",
    "def sk_spamTest():\n",
    "    # 初始化邮件词汇列表，分类向量，全文列表等\n",
    "    docList=[];classList=[];fullText=[]\n",
    "    \n",
    "    # 遍历读取所有的邮件文件\n",
    "    for i in range(1,26):\n",
    "        # 读取所有的垃圾文件\n",
    "        wordList = loadEmailFile('email/spam/%d.txt' % i)\n",
    "        # 注意python列表中append和extend区别\n",
    "        docList.append(wordList)\n",
    "        fullText.extend(wordList)\n",
    "        classList.append(1)\n",
    "        # 读取所有正常文件\n",
    "        wordList = loadEmailFile('email/ham/%d.txt' % i)\n",
    "        docList.append(wordList)\n",
    "        fullText.extend(wordList)\n",
    "        classList.append(0)\n",
    "        \n",
    "    # 获取单词表\n",
    "    vocabList = createVocabList(docList)\n",
    "    \n",
    "    # 初始化训练数据集和测试数据集\n",
    "    trainingSet = range(50);testSet = []\n",
    "    for i in range(10):\n",
    "        # 从中随机提取10封作为测试集\n",
    "        randIndex = int(random.uniform(0,len(trainingSet)))\n",
    "        testSet.append(trainingSet[randIndex])\n",
    "        del(trainingSet[randIndex])\n",
    "    \n",
    "    # 构建训练算法所需要的输入参数\n",
    "    trainMat=[];trainClasses=[]\n",
    "    for docIndex in trainingSet:\n",
    "        trainMat.append(bagOfWords2VecMN(vocabList,docList[docIndex]))\n",
    "        trainClasses.append(classList[docIndex])\n",
    "    \n",
    "    # 执行训练算法，获得概率向量\n",
    "#     p0V,p1V,pSpam = trainNB0(array(trainMat),array(trainClasses))\n",
    "    model = GaussianNB()\n",
    "    model.fit(array(trainMat),array(trainClasses))\n",
    "    \n",
    "    testMat = [];testClasses=[]\n",
    "    for docIndex in testSet:\n",
    "        testMat.append(bagOfWords2VecMN(vocabList,docList[docIndex]))\n",
    "        testClasses.append(classList[docIndex])\n",
    "        \n",
    "    \n",
    "    predicted = model.predict(array(testMat))\n",
    "    \n",
    "    # 进行分类器测试\n",
    "    errorCount = 0\n",
    "    for docIndex in testClasses:\n",
    "#         print docIndex\n",
    "        if predicted[docIndex]!=testClasses[docIndex]:\n",
    "            errorCount += 1\n",
    "        \n",
    "    print \"the error rate is: \",float(errorCount)/len(testClasses)\n",
    "    print testClasses\n",
    "    print predicted"
   ]
  },
  {
   "cell_type": "code",
   "execution_count": 59,
   "metadata": {
    "collapsed": false,
    "scrolled": true
   },
   "outputs": [
    {
     "name": "stdout",
     "output_type": "stream",
     "text": [
      "classification error ['experience', 'with', 'biggerpenis', 'today', 'grow', 'inches', 'more', 'the', 'safest', 'most', 'effective', 'methods', 'of_penisen1argement', 'save', 'your', 'time', 'and', 'money', 'bettererections', 'with', 'effective', 'ma1eenhancement', 'products', 'ma1eenhancement', 'supplement', 'trusted', 'millions', 'buy', 'today']\n",
      "the error rate is:  0.1\n",
      "[0, 0, 0, 0, 0, 0, 0, 1, 0, 0]\n"
     ]
    }
   ],
   "source": [
    "spamTest()"
   ]
  },
  {
   "cell_type": "code",
   "execution_count": 63,
   "metadata": {
    "collapsed": false
   },
   "outputs": [
    {
     "name": "stdout",
     "output_type": "stream",
     "text": [
      "the error rate is:  0.0\n",
      "[0, 1, 1, 1, 1, 0, 0, 0, 0, 0]\n",
      "[0 1 0 1 1 0 0 0 0 0]\n"
     ]
    }
   ],
   "source": [
    "sk_spamTest()"
   ]
  },
  {
   "cell_type": "code",
   "execution_count": null,
   "metadata": {
    "collapsed": true
   },
   "outputs": [],
   "source": []
  }
 ],
 "metadata": {
  "kernelspec": {
   "display_name": "Python 2",
   "language": "python",
   "name": "python2"
  },
  "language_info": {
   "codemirror_mode": {
    "name": "ipython",
    "version": 2
   },
   "file_extension": ".py",
   "mimetype": "text/x-python",
   "name": "python",
   "nbconvert_exporter": "python",
   "pygments_lexer": "ipython2",
   "version": "2.7.11"
  }
 },
 "nbformat": 4,
 "nbformat_minor": 0
}
